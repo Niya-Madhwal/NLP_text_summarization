{
 "cells": [
  {
   "cell_type": "code",
   "execution_count": 1,
   "id": "5c063cf6",
   "metadata": {},
   "outputs": [
    {
     "data": {
      "text/plain": [
       "'c:\\\\Users\\\\neha.mandwal\\\\.vscode\\\\Project\\\\MLOps\\\\NLP_text_summarization'"
      ]
     },
     "execution_count": 1,
     "metadata": {},
     "output_type": "execute_result"
    }
   ],
   "source": [
    "import os\n",
    "os.chdir(\"../\")\n",
    "%pwd"
   ]
  },
  {
   "cell_type": "code",
   "execution_count": null,
   "id": "f20e8fac",
   "metadata": {},
   "outputs": [],
   "source": [
    "from dataclasses import dataclass\n",
    "from pathlib import Path\n",
    "@dataclass\n",
    "class ModelTrainerConfig:\n",
    "        root_dir: Path\n",
    "        data_path: Path\n",
    "        model_ckpt: Path\n",
    "        num_train_epochs: int\n",
    "        warmup_steps: int\n",
    "        per_device_train_batch_size: int\n",
    "        weight_decay: float\n",
    "        logging_steps: int\n",
    "        evaluation_strategy: int\n",
    "        eval_steps: 500\n",
    "        save_steps: float\n",
    "        gradient_accumulation_steps: int\n"
   ]
  }
 ],
 "metadata": {
  "kernelspec": {
   "display_name": "venv",
   "language": "python",
   "name": "python3"
  },
  "language_info": {
   "codemirror_mode": {
    "name": "ipython",
    "version": 3
   },
   "file_extension": ".py",
   "mimetype": "text/x-python",
   "name": "python",
   "nbconvert_exporter": "python",
   "pygments_lexer": "ipython3",
   "version": "3.11.0"
  }
 },
 "nbformat": 4,
 "nbformat_minor": 5
}
