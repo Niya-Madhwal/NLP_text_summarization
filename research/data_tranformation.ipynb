{
 "cells": [
  {
   "cell_type": "code",
   "execution_count": 1,
   "id": "65a0ac78",
   "metadata": {},
   "outputs": [
    {
     "data": {
      "text/plain": [
       "'c:\\\\Users\\\\neha.mandwal\\\\.vscode\\\\Project\\\\MLOps\\\\NLP_text_summarization\\\\research'"
      ]
     },
     "execution_count": 1,
     "metadata": {},
     "output_type": "execute_result"
    }
   ],
   "source": [
    "import os \n",
    "%pwd"
   ]
  },
  {
   "cell_type": "code",
   "execution_count": 2,
   "id": "84e59a70",
   "metadata": {},
   "outputs": [],
   "source": [
    "os.chdir(\"../\")"
   ]
  },
  {
   "cell_type": "code",
   "execution_count": 3,
   "id": "3b2bb1d9",
   "metadata": {},
   "outputs": [
    {
     "data": {
      "text/plain": [
       "'c:\\\\Users\\\\neha.mandwal\\\\.vscode\\\\Project\\\\MLOps\\\\NLP_text_summarization'"
      ]
     },
     "execution_count": 3,
     "metadata": {},
     "output_type": "execute_result"
    }
   ],
   "source": [
    "%pwd"
   ]
  },
  {
   "cell_type": "code",
   "execution_count": 5,
   "id": "05fddecc",
   "metadata": {},
   "outputs": [],
   "source": [
    "from dataclasses import dataclass\n",
    "from pathlib import Path\n",
    "\n",
    "@dataclass\n",
    "class DataTransformationConfig:\n",
    "        root_dir: Path\n",
    "        data_path: Path\n",
    "        tokenizer_name: Path"
   ]
  },
  {
   "cell_type": "code",
   "execution_count": 13,
   "id": "5aaa1ab9",
   "metadata": {},
   "outputs": [],
   "source": [
    "from src.NLP_text_summarization.utils.common import read_yaml, creating_directories\n",
    "from src.NLP_text_summarization.constants import *\n",
    "\n",
    "class ConfigurationManager:\n",
    "    def __init__(self, config_path= CONFIG_FILE_PATH,\n",
    "                params_path = PARAMS_FILE_PATH):\n",
    "        self.config = read_yaml(config_path)\n",
    "        self.params = read_yaml(params_path)\n",
    "\n",
    "        creating_directories([self.config.artifacts_root])\n",
    "\n",
    "    def get_data_transformation_config(self)-> DataTransformationConfig:\n",
    "        config = self.config.data_transformation\n",
    "\n",
    "        creating_directories([self.config.root_dir])\n",
    "\n",
    "        data_transformation_config =DataTransformationConfig(\n",
    "                    root_dir= config.root_dir,\n",
    "                    data_path= config.data_path,\n",
    "                    tokenizer_name= config.tokenizer_name\n",
    "            \n",
    "        )\n",
    "        return  data_transformation_config\n",
    "\n"
   ]
  },
  {
   "cell_type": "code",
   "execution_count": 7,
   "id": "10e3b95f",
   "metadata": {},
   "outputs": [
    {
     "name": "stderr",
     "output_type": "stream",
     "text": [
      "c:\\Users\\neha.mandwal\\.vscode\\Project\\MLOps\\NLP_text_summarization\\venv\\Lib\\site-packages\\tqdm\\auto.py:21: TqdmWarning: IProgress not found. Please update jupyter and ipywidgets. See https://ipywidgets.readthedocs.io/en/stable/user_install.html\n",
      "  from .autonotebook import tqdm as notebook_tqdm\n"
     ]
    }
   ],
   "source": [
    "import os\n",
    "from src.NLP_text_summarization.logging import logger\n",
    "from transformers import AutoTokenizer\n",
    "from datasets import load_from_disk"
   ]
  },
  {
   "cell_type": "code",
   "execution_count": 14,
   "id": "fa1a015f",
   "metadata": {},
   "outputs": [],
   "source": [
    "class DataTransformation:\n",
    "    def __init__(self, config:DataTransformationConfig):\n",
    "        self.config = config\n",
    "        self.tokenizer= Autotokenizer.from_pretrained(config.tokenizer_name)\n",
    "\n",
    "    def convert_examples_to_features(self, example_batch):\n",
    "        input_encodings = self.tokenizer(example_batch['dialogue'] , max_length = 1024, truncation = True )\n",
    "\n",
    "        with self.tokenizer.as_target_tokenizer():\n",
    "            target_encodings = self.tokenizer(example_batch['summary'], max_length = 128, truncation = True )\n",
    "\n",
    "        return {\n",
    "            'input_ids' : input_encodings['input_ids'],\n",
    "            'attention_mask': input_encodings['attention_mask'],\n",
    "            'labels': target_encodings['input_ids']\n",
    "        }\n",
    "\n",
    "    def convert(self):\n",
    "        dataset_samsum = load_from_disk(self.config.data_path)\n",
    "        dataset_samsum_pt = dataset_samsum.map(self.convert_examples_to_features, batched=True)\n",
    "        dataset_samsum_pt.save_to_disk(os.path.join(self.config.root_dir, \"samsum_dataset\"))\n"
   ]
  },
  {
   "cell_type": "code",
   "execution_count": 15,
   "id": "b5cc424d",
   "metadata": {},
   "outputs": [
    {
     "name": "stdout",
     "output_type": "stream",
     "text": [
      "[2025-09-05 23:08:30,510: INFO: common: yaml file: config\\config.yaml loaded successfully]\n",
      "[2025-09-05 23:08:30,512: INFO: common: yaml file: params.yaml loaded successfully]\n",
      "[2025-09-05 23:08:30,514: INFO: common: created directory at: artifacts]\n"
     ]
    },
    {
     "ename": "BoxKeyError",
     "evalue": "\"'ConfigBox' object has no attribute 'root_dir'\"",
     "output_type": "error",
     "traceback": [
      "\u001b[31m---------------------------------------------------------------------------\u001b[39m",
      "\u001b[31mKeyError\u001b[39m                                  Traceback (most recent call last)",
      "\u001b[36mFile \u001b[39m\u001b[32mc:\\Users\\neha.mandwal\\.vscode\\Project\\MLOps\\NLP_text_summarization\\venv\\Lib\\site-packages\\box\\box.py:503\u001b[39m, in \u001b[36mBox.__getitem__\u001b[39m\u001b[34m(self, item, _ignore_default)\u001b[39m\n\u001b[32m    502\u001b[39m \u001b[38;5;28;01mtry\u001b[39;00m:\n\u001b[32m--> \u001b[39m\u001b[32m503\u001b[39m     \u001b[38;5;28;01mreturn\u001b[39;00m \u001b[38;5;28;43msuper\u001b[39;49m\u001b[43m(\u001b[49m\u001b[43m)\u001b[49m\u001b[43m.\u001b[49m\u001b[34;43m__getitem__\u001b[39;49m\u001b[43m(\u001b[49m\u001b[43mitem\u001b[49m\u001b[43m)\u001b[49m\n\u001b[32m    504\u001b[39m \u001b[38;5;28;01mexcept\u001b[39;00m \u001b[38;5;167;01mKeyError\u001b[39;00m \u001b[38;5;28;01mas\u001b[39;00m err:\n",
      "\u001b[31mKeyError\u001b[39m: 'root_dir'",
      "\nThe above exception was the direct cause of the following exception:\n",
      "\u001b[31mBoxKeyError\u001b[39m                               Traceback (most recent call last)",
      "\u001b[36mFile \u001b[39m\u001b[32mc:\\Users\\neha.mandwal\\.vscode\\Project\\MLOps\\NLP_text_summarization\\venv\\Lib\\site-packages\\box\\box.py:536\u001b[39m, in \u001b[36mBox.__getattr__\u001b[39m\u001b[34m(self, item)\u001b[39m\n\u001b[32m    535\u001b[39m \u001b[38;5;28;01mtry\u001b[39;00m:\n\u001b[32m--> \u001b[39m\u001b[32m536\u001b[39m     value = \u001b[38;5;28;43mself\u001b[39;49m\u001b[43m.\u001b[49m\u001b[34;43m__getitem__\u001b[39;49m\u001b[43m(\u001b[49m\u001b[43mitem\u001b[49m\u001b[43m,\u001b[49m\u001b[43m \u001b[49m\u001b[43m_ignore_default\u001b[49m\u001b[43m=\u001b[49m\u001b[38;5;28;43;01mTrue\u001b[39;49;00m\u001b[43m)\u001b[49m\n\u001b[32m    537\u001b[39m \u001b[38;5;28;01mexcept\u001b[39;00m \u001b[38;5;167;01mKeyError\u001b[39;00m:\n",
      "\u001b[36mFile \u001b[39m\u001b[32mc:\\Users\\neha.mandwal\\.vscode\\Project\\MLOps\\NLP_text_summarization\\venv\\Lib\\site-packages\\box\\box.py:524\u001b[39m, in \u001b[36mBox.__getitem__\u001b[39m\u001b[34m(self, item, _ignore_default)\u001b[39m\n\u001b[32m    523\u001b[39m         \u001b[38;5;28;01mreturn\u001b[39;00m \u001b[38;5;28mself\u001b[39m.__get_default(item)\n\u001b[32m--> \u001b[39m\u001b[32m524\u001b[39m     \u001b[38;5;28;01mraise\u001b[39;00m BoxKeyError(\u001b[38;5;28mstr\u001b[39m(err)) \u001b[38;5;28;01mfrom\u001b[39;00m\u001b[38;5;250m \u001b[39m\u001b[34;01m_exception_cause\u001b[39;00m(err)\n\u001b[32m    525\u001b[39m \u001b[38;5;28;01mexcept\u001b[39;00m \u001b[38;5;167;01mTypeError\u001b[39;00m \u001b[38;5;28;01mas\u001b[39;00m err:\n",
      "\u001b[31mBoxKeyError\u001b[39m: \"'root_dir'\"",
      "\nDuring handling of the above exception, another exception occurred:\n",
      "\u001b[31mAttributeError\u001b[39m                            Traceback (most recent call last)",
      "\u001b[36mFile \u001b[39m\u001b[32mc:\\Users\\neha.mandwal\\.vscode\\Project\\MLOps\\NLP_text_summarization\\venv\\Lib\\site-packages\\box\\box.py:538\u001b[39m, in \u001b[36mBox.__getattr__\u001b[39m\u001b[34m(self, item)\u001b[39m\n\u001b[32m    537\u001b[39m     \u001b[38;5;28;01mexcept\u001b[39;00m \u001b[38;5;167;01mKeyError\u001b[39;00m:\n\u001b[32m--> \u001b[39m\u001b[32m538\u001b[39m         value = \u001b[38;5;28;43mobject\u001b[39;49m\u001b[43m.\u001b[49m\u001b[34;43m__getattribute__\u001b[39;49m\u001b[43m(\u001b[49m\u001b[38;5;28;43mself\u001b[39;49m\u001b[43m,\u001b[49m\u001b[43m \u001b[49m\u001b[43mitem\u001b[49m\u001b[43m)\u001b[49m\n\u001b[32m    539\u001b[39m \u001b[38;5;28;01mexcept\u001b[39;00m \u001b[38;5;167;01mAttributeError\u001b[39;00m \u001b[38;5;28;01mas\u001b[39;00m err:\n",
      "\u001b[31mAttributeError\u001b[39m: 'ConfigBox' object has no attribute 'root_dir'",
      "\nThe above exception was the direct cause of the following exception:\n",
      "\u001b[31mBoxKeyError\u001b[39m                               Traceback (most recent call last)",
      "\u001b[36mFile \u001b[39m\u001b[32mc:\\Users\\neha.mandwal\\.vscode\\Project\\MLOps\\NLP_text_summarization\\venv\\Lib\\site-packages\\box\\config_box.py:28\u001b[39m, in \u001b[36mConfigBox.__getattr__\u001b[39m\u001b[34m(self, item)\u001b[39m\n\u001b[32m     27\u001b[39m \u001b[38;5;28;01mtry\u001b[39;00m:\n\u001b[32m---> \u001b[39m\u001b[32m28\u001b[39m     \u001b[38;5;28;01mreturn\u001b[39;00m \u001b[38;5;28;43msuper\u001b[39;49m\u001b[43m(\u001b[49m\u001b[43m)\u001b[49m\u001b[43m.\u001b[49m\u001b[34;43m__getattr__\u001b[39;49m\u001b[43m(\u001b[49m\u001b[43mitem\u001b[49m\u001b[43m)\u001b[49m\n\u001b[32m     29\u001b[39m \u001b[38;5;28;01mexcept\u001b[39;00m \u001b[38;5;167;01mAttributeError\u001b[39;00m:\n",
      "\u001b[36mFile \u001b[39m\u001b[32mc:\\Users\\neha.mandwal\\.vscode\\Project\\MLOps\\NLP_text_summarization\\venv\\Lib\\site-packages\\box\\box.py:552\u001b[39m, in \u001b[36mBox.__getattr__\u001b[39m\u001b[34m(self, item)\u001b[39m\n\u001b[32m    551\u001b[39m         \u001b[38;5;28;01mreturn\u001b[39;00m \u001b[38;5;28mself\u001b[39m.__get_default(item, attr=\u001b[38;5;28;01mTrue\u001b[39;00m)\n\u001b[32m--> \u001b[39m\u001b[32m552\u001b[39m     \u001b[38;5;28;01mraise\u001b[39;00m BoxKeyError(\u001b[38;5;28mstr\u001b[39m(err)) \u001b[38;5;28;01mfrom\u001b[39;00m\u001b[38;5;250m \u001b[39m\u001b[34;01m_exception_cause\u001b[39;00m(err)\n\u001b[32m    553\u001b[39m \u001b[38;5;28;01mreturn\u001b[39;00m value\n",
      "\u001b[31mBoxKeyError\u001b[39m: \"'ConfigBox' object has no attribute 'root_dir'\"",
      "\nDuring handling of the above exception, another exception occurred:\n",
      "\u001b[31mKeyError\u001b[39m                                  Traceback (most recent call last)",
      "\u001b[36mFile \u001b[39m\u001b[32mc:\\Users\\neha.mandwal\\.vscode\\Project\\MLOps\\NLP_text_summarization\\venv\\Lib\\site-packages\\box\\box.py:503\u001b[39m, in \u001b[36mBox.__getitem__\u001b[39m\u001b[34m(self, item, _ignore_default)\u001b[39m\n\u001b[32m    502\u001b[39m \u001b[38;5;28;01mtry\u001b[39;00m:\n\u001b[32m--> \u001b[39m\u001b[32m503\u001b[39m     \u001b[38;5;28;01mreturn\u001b[39;00m \u001b[38;5;28;43msuper\u001b[39;49m\u001b[43m(\u001b[49m\u001b[43m)\u001b[49m\u001b[43m.\u001b[49m\u001b[34;43m__getitem__\u001b[39;49m\u001b[43m(\u001b[49m\u001b[43mitem\u001b[49m\u001b[43m)\u001b[49m\n\u001b[32m    504\u001b[39m \u001b[38;5;28;01mexcept\u001b[39;00m \u001b[38;5;167;01mKeyError\u001b[39;00m \u001b[38;5;28;01mas\u001b[39;00m err:\n",
      "\u001b[31mKeyError\u001b[39m: 'root_dir'",
      "\nThe above exception was the direct cause of the following exception:\n",
      "\u001b[31mBoxKeyError\u001b[39m                               Traceback (most recent call last)",
      "\u001b[36mFile \u001b[39m\u001b[32mc:\\Users\\neha.mandwal\\.vscode\\Project\\MLOps\\NLP_text_summarization\\venv\\Lib\\site-packages\\box\\box.py:536\u001b[39m, in \u001b[36mBox.__getattr__\u001b[39m\u001b[34m(self, item)\u001b[39m\n\u001b[32m    535\u001b[39m \u001b[38;5;28;01mtry\u001b[39;00m:\n\u001b[32m--> \u001b[39m\u001b[32m536\u001b[39m     value = \u001b[38;5;28;43mself\u001b[39;49m\u001b[43m.\u001b[49m\u001b[34;43m__getitem__\u001b[39;49m\u001b[43m(\u001b[49m\u001b[43mitem\u001b[49m\u001b[43m,\u001b[49m\u001b[43m \u001b[49m\u001b[43m_ignore_default\u001b[49m\u001b[43m=\u001b[49m\u001b[38;5;28;43;01mTrue\u001b[39;49;00m\u001b[43m)\u001b[49m\n\u001b[32m    537\u001b[39m \u001b[38;5;28;01mexcept\u001b[39;00m \u001b[38;5;167;01mKeyError\u001b[39;00m:\n",
      "\u001b[36mFile \u001b[39m\u001b[32mc:\\Users\\neha.mandwal\\.vscode\\Project\\MLOps\\NLP_text_summarization\\venv\\Lib\\site-packages\\box\\box.py:524\u001b[39m, in \u001b[36mBox.__getitem__\u001b[39m\u001b[34m(self, item, _ignore_default)\u001b[39m\n\u001b[32m    523\u001b[39m         \u001b[38;5;28;01mreturn\u001b[39;00m \u001b[38;5;28mself\u001b[39m.__get_default(item)\n\u001b[32m--> \u001b[39m\u001b[32m524\u001b[39m     \u001b[38;5;28;01mraise\u001b[39;00m BoxKeyError(\u001b[38;5;28mstr\u001b[39m(err)) \u001b[38;5;28;01mfrom\u001b[39;00m\u001b[38;5;250m \u001b[39m\u001b[34;01m_exception_cause\u001b[39;00m(err)\n\u001b[32m    525\u001b[39m \u001b[38;5;28;01mexcept\u001b[39;00m \u001b[38;5;167;01mTypeError\u001b[39;00m \u001b[38;5;28;01mas\u001b[39;00m err:\n",
      "\u001b[31mBoxKeyError\u001b[39m: \"'root_dir'\"",
      "\nDuring handling of the above exception, another exception occurred:\n",
      "\u001b[31mAttributeError\u001b[39m                            Traceback (most recent call last)",
      "\u001b[36mFile \u001b[39m\u001b[32mc:\\Users\\neha.mandwal\\.vscode\\Project\\MLOps\\NLP_text_summarization\\venv\\Lib\\site-packages\\box\\box.py:538\u001b[39m, in \u001b[36mBox.__getattr__\u001b[39m\u001b[34m(self, item)\u001b[39m\n\u001b[32m    537\u001b[39m     \u001b[38;5;28;01mexcept\u001b[39;00m \u001b[38;5;167;01mKeyError\u001b[39;00m:\n\u001b[32m--> \u001b[39m\u001b[32m538\u001b[39m         value = \u001b[38;5;28;43mobject\u001b[39;49m\u001b[43m.\u001b[49m\u001b[34;43m__getattribute__\u001b[39;49m\u001b[43m(\u001b[49m\u001b[38;5;28;43mself\u001b[39;49m\u001b[43m,\u001b[49m\u001b[43m \u001b[49m\u001b[43mitem\u001b[49m\u001b[43m)\u001b[49m\n\u001b[32m    539\u001b[39m \u001b[38;5;28;01mexcept\u001b[39;00m \u001b[38;5;167;01mAttributeError\u001b[39;00m \u001b[38;5;28;01mas\u001b[39;00m err:\n",
      "\u001b[31mAttributeError\u001b[39m: 'ConfigBox' object has no attribute 'root_dir'",
      "\nThe above exception was the direct cause of the following exception:\n",
      "\u001b[31mBoxKeyError\u001b[39m                               Traceback (most recent call last)",
      "\u001b[36mCell\u001b[39m\u001b[36m \u001b[39m\u001b[32mIn[15]\u001b[39m\u001b[32m, line 2\u001b[39m\n\u001b[32m      1\u001b[39m config = ConfigurationManager()\n\u001b[32m----> \u001b[39m\u001b[32m2\u001b[39m data_transormation_config = \u001b[43mconfig\u001b[49m\u001b[43m.\u001b[49m\u001b[43mget_data_transformation_config\u001b[49m\u001b[43m(\u001b[49m\u001b[43m)\u001b[49m\n\u001b[32m      3\u001b[39m data_transformation = DataTransformation(config=data_transformation_config)\n\u001b[32m      4\u001b[39m data_transformation.convert()\n",
      "\u001b[36mCell\u001b[39m\u001b[36m \u001b[39m\u001b[32mIn[13]\u001b[39m\u001b[32m, line 15\u001b[39m, in \u001b[36mConfigurationManager.get_data_transformation_config\u001b[39m\u001b[34m(self)\u001b[39m\n\u001b[32m     12\u001b[39m \u001b[38;5;28;01mdef\u001b[39;00m\u001b[38;5;250m \u001b[39m\u001b[34mget_data_transformation_config\u001b[39m(\u001b[38;5;28mself\u001b[39m)-> DataTransformationConfig:\n\u001b[32m     13\u001b[39m     config = \u001b[38;5;28mself\u001b[39m.config.data_transformation\n\u001b[32m---> \u001b[39m\u001b[32m15\u001b[39m     creating_directories([\u001b[38;5;28;43mself\u001b[39;49m\u001b[43m.\u001b[49m\u001b[43mconfig\u001b[49m\u001b[43m.\u001b[49m\u001b[43mroot_dir\u001b[49m])\n\u001b[32m     17\u001b[39m     data_transformation_config =DataTransformationConfig(\n\u001b[32m     18\u001b[39m                 root_dir= config.root_dir,\n\u001b[32m     19\u001b[39m                 data_path= config.data_path,\n\u001b[32m     20\u001b[39m                 tokenizer_name= config.tokenizer_name\n\u001b[32m     21\u001b[39m \n\u001b[32m     22\u001b[39m     )\n\u001b[32m     23\u001b[39m     \u001b[38;5;28;01mreturn\u001b[39;00m  data_transformation_config\n",
      "\u001b[36mFile \u001b[39m\u001b[32mc:\\Users\\neha.mandwal\\.vscode\\Project\\MLOps\\NLP_text_summarization\\venv\\Lib\\site-packages\\box\\config_box.py:30\u001b[39m, in \u001b[36mConfigBox.__getattr__\u001b[39m\u001b[34m(self, item)\u001b[39m\n\u001b[32m     28\u001b[39m     \u001b[38;5;28;01mreturn\u001b[39;00m \u001b[38;5;28msuper\u001b[39m().\u001b[34m__getattr__\u001b[39m(item)\n\u001b[32m     29\u001b[39m \u001b[38;5;28;01mexcept\u001b[39;00m \u001b[38;5;167;01mAttributeError\u001b[39;00m:\n\u001b[32m---> \u001b[39m\u001b[32m30\u001b[39m     \u001b[38;5;28;01mreturn\u001b[39;00m \u001b[38;5;28;43msuper\u001b[39;49m\u001b[43m(\u001b[49m\u001b[43m)\u001b[49m\u001b[43m.\u001b[49m\u001b[34;43m__getattr__\u001b[39;49m\u001b[43m(\u001b[49m\u001b[43mitem\u001b[49m\u001b[43m.\u001b[49m\u001b[43mlower\u001b[49m\u001b[43m(\u001b[49m\u001b[43m)\u001b[49m\u001b[43m)\u001b[49m\n",
      "\u001b[36mFile \u001b[39m\u001b[32mc:\\Users\\neha.mandwal\\.vscode\\Project\\MLOps\\NLP_text_summarization\\venv\\Lib\\site-packages\\box\\box.py:552\u001b[39m, in \u001b[36mBox.__getattr__\u001b[39m\u001b[34m(self, item)\u001b[39m\n\u001b[32m    550\u001b[39m             \u001b[38;5;28;01mraise\u001b[39;00m BoxKeyError(\u001b[33mf\u001b[39m\u001b[33m\"\u001b[39m\u001b[38;5;132;01m{\u001b[39;00mitem\u001b[38;5;132;01m}\u001b[39;00m\u001b[33m: Does not exist and internal methods are never defaulted\u001b[39m\u001b[33m\"\u001b[39m)\n\u001b[32m    551\u001b[39m         \u001b[38;5;28;01mreturn\u001b[39;00m \u001b[38;5;28mself\u001b[39m.__get_default(item, attr=\u001b[38;5;28;01mTrue\u001b[39;00m)\n\u001b[32m--> \u001b[39m\u001b[32m552\u001b[39m     \u001b[38;5;28;01mraise\u001b[39;00m BoxKeyError(\u001b[38;5;28mstr\u001b[39m(err)) \u001b[38;5;28;01mfrom\u001b[39;00m\u001b[38;5;250m \u001b[39m\u001b[34;01m_exception_cause\u001b[39;00m(err)\n\u001b[32m    553\u001b[39m \u001b[38;5;28;01mreturn\u001b[39;00m value\n",
      "\u001b[31mBoxKeyError\u001b[39m: \"'ConfigBox' object has no attribute 'root_dir'\""
     ]
    }
   ],
   "source": [
    "        config = ConfigurationManager()\n",
    "        data_transormation_config = config.get_data_transformation_config()\n",
    "        data_transformation = DataTransformation(config=data_transformation_config)\n",
    "        data_transformation.convert()\n",
    "    "
   ]
  },
  {
   "cell_type": "code",
   "execution_count": null,
   "id": "335ee088",
   "metadata": {},
   "outputs": [],
   "source": []
  }
 ],
 "metadata": {
  "kernelspec": {
   "display_name": "venv",
   "language": "python",
   "name": "python3"
  },
  "language_info": {
   "codemirror_mode": {
    "name": "ipython",
    "version": 3
   },
   "file_extension": ".py",
   "mimetype": "text/x-python",
   "name": "python",
   "nbconvert_exporter": "python",
   "pygments_lexer": "ipython3",
   "version": "3.11.0"
  }
 },
 "nbformat": 4,
 "nbformat_minor": 5
}
